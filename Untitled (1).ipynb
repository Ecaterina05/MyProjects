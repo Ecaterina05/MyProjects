{
 "cells": [
  {
   "cell_type": "code",
   "execution_count": 3,
   "metadata": {},
   "outputs": [],
   "source": [
    "import torch\n",
    "import pandas as pd\n",
    "import numpy as np\n",
    "import os"
   ]
  },
  {
   "cell_type": "code",
   "execution_count": 4,
   "metadata": {},
   "outputs": [
    {
     "data": {
      "text/html": [
       "<div>\n",
       "<style scoped>\n",
       "    .dataframe tbody tr th:only-of-type {\n",
       "        vertical-align: middle;\n",
       "    }\n",
       "\n",
       "    .dataframe tbody tr th {\n",
       "        vertical-align: top;\n",
       "    }\n",
       "\n",
       "    .dataframe thead th {\n",
       "        text-align: right;\n",
       "    }\n",
       "</style>\n",
       "<table border=\"1\" class=\"dataframe\">\n",
       "  <thead>\n",
       "    <tr style=\"text-align: right;\">\n",
       "      <th></th>\n",
       "      <th>path</th>\n",
       "      <th>label</th>\n",
       "    </tr>\n",
       "  </thead>\n",
       "  <tbody>\n",
       "    <tr>\n",
       "      <th>0</th>\n",
       "      <td>6477e645-3dd.png</td>\n",
       "      <td>1</td>\n",
       "    </tr>\n",
       "    <tr>\n",
       "      <th>1</th>\n",
       "      <td>27b8522b-de9.png</td>\n",
       "      <td>2</td>\n",
       "    </tr>\n",
       "    <tr>\n",
       "      <th>2</th>\n",
       "      <td>8bbde802-9b3.png</td>\n",
       "      <td>0</td>\n",
       "    </tr>\n",
       "    <tr>\n",
       "      <th>3</th>\n",
       "      <td>b29356b6-7da.png</td>\n",
       "      <td>0</td>\n",
       "    </tr>\n",
       "    <tr>\n",
       "      <th>4</th>\n",
       "      <td>dbc838be-356.png</td>\n",
       "      <td>2</td>\n",
       "    </tr>\n",
       "  </tbody>\n",
       "</table>\n",
       "</div>"
      ],
      "text/plain": [
       "               path  label\n",
       "0  6477e645-3dd.png      1\n",
       "1  27b8522b-de9.png      2\n",
       "2  8bbde802-9b3.png      0\n",
       "3  b29356b6-7da.png      0\n",
       "4  dbc838be-356.png      2"
      ]
     },
     "execution_count": 4,
     "metadata": {},
     "output_type": "execute_result"
    }
   ],
   "source": [
    "train = pd.read_csv(\"train.txt\", header=None, names=[\"path\", \"label\"])\n",
    "val = pd.read_csv(\"validation.txt\", header=None, names=[\"path\", \"label\"])\n",
    "test=pd.read_csv(\"test.txt\",header=None, names=[\"id\"])\n",
    "val.head()"
   ]
  },
  {
   "cell_type": "code",
   "execution_count": 5,
   "metadata": {},
   "outputs": [],
   "source": [
    "img_train_paths = train.loc[:, \"path\"].tolist()\n",
    "img_train_labels = train.loc[:, \"label\"].tolist()\n",
    "img_train_paths = [os.path.join('train', path) for path in img_train_paths]\n",
    "\n",
    "img_val_paths = val.loc[:, \"path\"].tolist()\n",
    "img_val_labels = val.loc[:, \"label\"].tolist()\n",
    "img_val_paths = [os.path.join('validation', path) for path in img_val_paths]\n",
    "\n",
    "img_test_paths = test.loc[:, \"id\"].tolist()\n",
    "img_test_paths=[os.path.join('test', path) for path in img_test_paths]"
   ]
  },
  {
   "cell_type": "code",
   "execution_count": null,
   "metadata": {},
   "outputs": [],
   "source": [
    "#img_train_paths"
   ]
  },
  {
   "cell_type": "code",
   "execution_count": 7,
   "metadata": {},
   "outputs": [],
   "source": [
    "from PIL import Image\n",
    "import matplotlib.pyplot as plt"
   ]
  },
  {
   "cell_type": "code",
   "execution_count": 8,
   "metadata": {},
   "outputs": [],
   "source": [
    "from torch.utils.data import Dataset, DataLoader"
   ]
  },
  {
   "cell_type": "code",
   "execution_count": 9,
   "metadata": {},
   "outputs": [],
   "source": [
    "import pdb\n",
    "class TMDataset(Dataset):\n",
    "    def __init__(self, img_paths, img_labels):\n",
    "        self.img_paths = img_paths\n",
    "        self.img_labels = img_labels\n",
    "        \n",
    "    def __len__(self):\n",
    "        return len(self.img_paths)\n",
    "\n",
    "    def __getitem__(self, idx):\n",
    "        img_path = self.img_paths[idx]\n",
    "        img = Image.open(img_path)\n",
    "        img = np.array(img) / 255\n",
    "        torch_img = torch.tensor(img).unsqueeze(0).float()\n",
    "        label = torch.tensor(self.img_labels[idx])\n",
    "        \n",
    "        return torch_img, label"
   ]
  },
  {
   "cell_type": "code",
   "execution_count": 10,
   "metadata": {},
   "outputs": [],
   "source": [
    "class TestData(Dataset):\n",
    "    def __init__(self, img_paths):\n",
    "        self.img_paths = img_paths\n",
    "      \n",
    "        \n",
    "    def __len__(self):\n",
    "        return len(self.img_paths)\n",
    "\n",
    "    def __getitem__(self, idx):\n",
    "        img_path = self.img_paths[idx]\n",
    "        img = Image.open(img_path)\n",
    "        img = np.array(img) / 255\n",
    "        torch_img = torch.tensor(img).unsqueeze(0).float()\n",
    "        \n",
    "        \n",
    "        return torch_img"
   ]
  },
  {
   "cell_type": "code",
   "execution_count": 11,
   "metadata": {},
   "outputs": [],
   "source": [
    "train_set=TMDataset(img_train_paths, img_train_labels)\n",
    "val_set=TMDataset(img_val_paths, img_val_labels)\n",
    "test_set=TestData(img_test_paths)\n",
    "\n",
    "train_loader=DataLoader(train_set, batch_size=4, shuffle=True)\n",
    "val_loader=DataLoader(val_set, batch_size=4, shuffle=True)\n",
    "test_loader=DataLoader(test_set, batch_size=4, shuffle=True)"
   ]
  },
  {
   "cell_type": "code",
   "execution_count": 12,
   "metadata": {},
   "outputs": [],
   "source": [
    "import torch.nn as nn\n",
    "import torch.nn.functional as F\n",
    "\n",
    "\n",
    "class ReteaConv(nn.Module):\n",
    "    def __init__(self):\n",
    "        super().__init__()\n",
    "        self.conv1 = nn.Conv2d(in_channels=1, out_channels=3, kernel_size=3)\n",
    "        self.conv2 = nn.Conv2d(in_channels=3, out_channels=6, kernel_size=5, stride=2)\n",
    "        \n",
    "        self.pool = nn.MaxPool2d(2, 2)\n",
    "        self.flatten = nn.Flatten()\n",
    "        \n",
    "        self.fc1 = nn.Linear(150, 50)\n",
    "        self.fc2 = nn.Linear(50, 3)\n",
    "        \n",
    "        self.relu = nn.ReLU()\n",
    "        self.softmax = nn.Softmax(dim=1)\n",
    "\n",
    "    def forward(self, x):\n",
    "        # to use BatchNorm2D if needed\n",
    "        # to use dropout on fc\n",
    "        x = self.conv1(x)\n",
    "        x = self.relu(x)\n",
    "        x = self.pool(x)\n",
    "        \n",
    "        x = self.conv2(x)\n",
    "        x = self.relu(x)\n",
    "        x = self.pool(x)\n",
    "        \n",
    "        x = self.flatten(x)\n",
    "        x = self.fc1(x)\n",
    "        x = self.relu(x)\n",
    "        \n",
    "        x = self.fc2(x)\n",
    "        x = self.relu(x)\n",
    "        x = self.softmax(x)\n",
    "        return x"
   ]
  },
  {
   "cell_type": "code",
   "execution_count": 13,
   "metadata": {},
   "outputs": [],
   "source": [
    "import torch.optim as optim"
   ]
  },
  {
   "cell_type": "code",
   "execution_count": 14,
   "metadata": {},
   "outputs": [],
   "source": [
    "model=ReteaConv()\n",
    "# specify loss function (categorical cross-entropy)\n",
    "criterion = nn.CrossEntropyLoss()\n",
    "\n",
    "# specify optimizer (stochastic gradient descent) and learning rate = 0.01\n",
    "optimizer = optim.Adam(model.parameters(), lr=0.001)"
   ]
  },
  {
   "cell_type": "code",
   "execution_count": 15,
   "metadata": {},
   "outputs": [],
   "source": [
    "\n",
    "# net.train() # if training mode\n",
    "# # net.eval() # if validation mode\n",
    "# for batch in train_dataloader:\n",
    "#     torch_img, label = batch\n",
    "    \n",
    "#     optimizer.zero_grad()\n",
    "#     output = net(torch_img)\n",
    "    \n",
    "#     predicted_label = torch.argmax(output, axis=1)\n",
    "#     loss = loss_funct(output, label)\n",
    "    \n",
    "#     # just on training\n",
    "#     loss.backward()\n",
    "#     optimizer.step()\n",
    "    \n",
    "#     print(loss)"
   ]
  },
  {
   "cell_type": "code",
   "execution_count": 16,
   "metadata": {},
   "outputs": [],
   "source": [
    "# number of epochs to train the model\n",
    "n_epochs = 5\n",
    "\n",
    "# initialize tracker for minimum validation loss\n",
    "valid_loss_min = np.Inf # set initial \"min\" to infinity\n",
    "\n",
    "for epoch in range(n_epochs):\n",
    "    # monitor training loss\n",
    "    train_loss = 0.0\n",
    "    valid_loss = 0.0\n",
    "\n",
    "    ###################\n",
    "    # train the model #\n",
    "    ###################\n",
    "    model.train() # prep model for training\n",
    "    for data, target in train_loader:\n",
    "        # clear the gradients of all optimized variables\n",
    "        optimizer.zero_grad()\n",
    "        # forward pass: compute predicted outputs by passing inputs to the model\n",
    "        output = model(data)\n",
    "        # calculate the loss\n",
    "        loss = criterion(output, target)\n",
    "        # backward pass: compute gradient of the loss with respect to model parameters\n",
    "        loss.backward()\n",
    "        # perform a single optimization step (parameter update)\n",
    "        optimizer.step()\n",
    "        # update running training loss\n",
    "        train_loss += loss.item()*data.size(0)\n",
    "        \n",
    "        "
   ]
  },
  {
   "cell_type": "code",
   "execution_count": null,
   "metadata": {},
   "outputs": [],
   "source": []
  },
  {
   "cell_type": "code",
   "execution_count": 17,
   "metadata": {},
   "outputs": [],
   "source": [
    "# model.load_state_dict(torch.load('model.pt'))"
   ]
  },
  {
   "cell_type": "code",
   "execution_count": 18,
   "metadata": {},
   "outputs": [],
   "source": [
    "\n",
    "# net.train() # if training mode\n",
    "# # net.eval() # if validation mode\n",
    "# for batch in train_dataloader:\n",
    "#     torch_img, label = batch\n",
    "    \n",
    "#     optimizer.zero_grad()\n",
    "#     output = net(torch_img)\n",
    "    \n",
    "#     predicted_label = torch.argmax(output, axis=1)\n",
    "#     loss = loss_funct(output, label)\n",
    "    \n",
    "#     # just on training\n",
    "#     loss.backward()\n",
    "#     optimizer.step()\n",
    "    \n",
    "#     print(loss)"
   ]
  },
  {
   "cell_type": "code",
   "execution_count": null,
   "metadata": {},
   "outputs": [],
   "source": []
  },
  {
   "cell_type": "code",
   "execution_count": 19,
   "metadata": {},
   "outputs": [
    {
     "name": "stdout",
     "output_type": "stream",
     "text": [
      "Test Loss: 1.098612\n",
      "\n",
      "Test Accuracy of     0: 100% (1500/1500)\n",
      "Test Accuracy of     1:  0% ( 0/1500)\n",
      "Test Accuracy of     2:  0% ( 0/1500)\n",
      "\n",
      "Test Accuracy (Overall): 33% (1500/4500)\n"
     ]
    }
   ],
   "source": [
    "test_loss = 0.0\n",
    "class_correct = list(0. for i in range(3))\n",
    "class_total = list(0. for i in range(3))\n",
    "batch_size=4\n",
    "model.eval() # prep model for evaluation\n",
    "\n",
    "for data, target in val_loader:\n",
    "    # forward pass: compute predicted outputs by passing inputs to the model\n",
    "    output = model(data)\n",
    "    # calculate the loss\n",
    "    loss = criterion(output, target)\n",
    "    # update test loss\n",
    "    test_loss += loss.item()*data.size(0)\n",
    "    # convert output probabilities to predicted class\n",
    "    _, pred = torch.max(output, 1)\n",
    "   \n",
    "    # compare predictions to true label\n",
    "    correct = np.squeeze(pred.eq(target.data.view_as(pred)))\n",
    "    \n",
    "    \n",
    "    # calculate test accuracy for each object class\n",
    "    for i in range(batch_size):\n",
    "        label = target.data[i]\n",
    "        class_correct[label] += correct[i].item()\n",
    "        class_total[label] += 1\n",
    "    \n",
    "\n",
    "# calculate and print avg test loss\n",
    "test_loss =test_loss/len(val_loader.dataset)\n",
    "print('Test Loss: {:.6f}\\n'.format(test_loss))\n",
    "\n",
    "for i in range(3):\n",
    "    if class_total[i] > 0:\n",
    "        print('Test Accuracy of %5s: %2d%% (%2d/%2d)' % (\n",
    "            str(i), 100 * class_correct[i] / class_total[i],\n",
    "            np.sum(class_correct[i]), np.sum(class_total[i])))\n",
    "    else:\n",
    "        print('Test Accuracy of %5s: N/A (no training examples)') #% (classes[i]))\n",
    "\n",
    "print('\\nTest Accuracy (Overall): %2d%% (%2d/%2d)' % (\n",
    "    100. * np.sum(class_correct) / np.sum(class_total),\n",
    "    np.sum(class_correct), np.sum(class_total)))\n",
    "        "
   ]
  },
  {
   "cell_type": "code",
   "execution_count": 20,
   "metadata": {},
   "outputs": [
    {
     "ename": "ModuleNotFoundError",
     "evalue": "No module named 'sklearn'",
     "output_type": "error",
     "traceback": [
      "\u001b[1;31m---------------------------------------------------------------------------\u001b[0m",
      "\u001b[1;31mModuleNotFoundError\u001b[0m                       Traceback (most recent call last)",
      "\u001b[1;32m<ipython-input-20-857d92d067ff>\u001b[0m in \u001b[0;36m<module>\u001b[1;34m\u001b[0m\n\u001b[0;32m      1\u001b[0m \u001b[1;32mimport\u001b[0m \u001b[0mmatplotlib\u001b[0m\u001b[1;33m.\u001b[0m\u001b[0mpyplot\u001b[0m \u001b[1;32mas\u001b[0m \u001b[0mplt\u001b[0m\u001b[1;33m\u001b[0m\u001b[1;33m\u001b[0m\u001b[0m\n\u001b[0;32m      2\u001b[0m \u001b[1;32mimport\u001b[0m \u001b[0mnumpy\u001b[0m \u001b[1;32mas\u001b[0m \u001b[0mnp\u001b[0m\u001b[1;33m\u001b[0m\u001b[1;33m\u001b[0m\u001b[0m\n\u001b[1;32m----> 3\u001b[1;33m \u001b[1;32mfrom\u001b[0m \u001b[0msklearn\u001b[0m \u001b[1;32mimport\u001b[0m \u001b[0msvm\u001b[0m\u001b[1;33m\u001b[0m\u001b[1;33m\u001b[0m\u001b[0m\n\u001b[0m\u001b[0;32m      4\u001b[0m \u001b[1;32mimport\u001b[0m \u001b[0mmatplotlib\u001b[0m\u001b[1;33m.\u001b[0m\u001b[0mimage\u001b[0m \u001b[1;32mas\u001b[0m \u001b[0mmpimg\u001b[0m\u001b[1;33m\u001b[0m\u001b[1;33m\u001b[0m\u001b[0m\n\u001b[0;32m      5\u001b[0m \u001b[1;32mfrom\u001b[0m \u001b[0mskimage\u001b[0m\u001b[1;33m.\u001b[0m\u001b[0mio\u001b[0m \u001b[1;32mimport\u001b[0m \u001b[0mimread\u001b[0m\u001b[1;33m\u001b[0m\u001b[1;33m\u001b[0m\u001b[0m\n",
      "\u001b[1;31mModuleNotFoundError\u001b[0m: No module named 'sklearn'"
     ]
    }
   ],
   "source": [
    "import matplotlib.pyplot as plt\n",
    "import numpy as np\n",
    "from sklearn import svm\n",
    "import matplotlib.image as mpimg\n",
    "from skimage.io import imread\n",
    "from sklearn import preprocessing\n",
    "from sklearn.metrics import confusion_matrix\n",
    "from sklearn.metrics import plot_confusion_matrix\n"
   ]
  },
  {
   "cell_type": "code",
   "execution_count": null,
   "metadata": {},
   "outputs": [],
   "source": [
    "predicted=[]\n",
    "for batch in test_loader:\n",
    "    torch_img_test=batch\n",
    "    output_test=model(torch_img_test)\n",
    "    predicted_label_test=torch.argmax(output_test, axis=1)\n",
    "    predicted.append(predicted_label_test)\n",
    "    \n",
    "predict_final=[]\n",
    "for i in range (len(predicted)):\n",
    "    predict=np.array(predicted[i])\n",
    "    predict_final.append(predict)\n",
    "    \n",
    "lista=[]\n",
    "for elem in predict_final:\n",
    "    for i in elem:\n",
    "        lista.append(int(i))"
   ]
  },
  {
   "cell_type": "code",
   "execution_count": null,
   "metadata": {},
   "outputs": [],
   "source": [
    "scrie= open(\"submisie.txt\", 'w')\n",
    "string=\"id, label\\n\"\n",
    "for i in range (0, len(img_test_paths)):\n",
    "    string=string+str(img_test_paths[i][5:])+\",\"+str(lista[i])+\"\\n\"\n",
    "scrie.write(string)"
   ]
  },
  {
   "cell_type": "code",
   "execution_count": null,
   "metadata": {},
   "outputs": [],
   "source": []
  },
  {
   "cell_type": "code",
   "execution_count": null,
   "metadata": {},
   "outputs": [],
   "source": []
  },
  {
   "cell_type": "code",
   "execution_count": null,
   "metadata": {},
   "outputs": [],
   "source": []
  },
  {
   "cell_type": "code",
   "execution_count": null,
   "metadata": {},
   "outputs": [],
   "source": []
  },
  {
   "cell_type": "code",
   "execution_count": null,
   "metadata": {},
   "outputs": [],
   "source": []
  },
  {
   "cell_type": "code",
   "execution_count": null,
   "metadata": {},
   "outputs": [],
   "source": []
  },
  {
   "cell_type": "code",
   "execution_count": null,
   "metadata": {},
   "outputs": [],
   "source": [
    "# test_load  = np.loadtxt('test.txt', dtype=str)  #incarc datele de test\n",
    "# test_img = []\n",
    "# for i in test_load:\n",
    "    \n",
    "#     path = 'test/' + i       #luam in test_img[] imaginile dupa denumire din folderul test\n",
    "#     img = mpimg.imread(path)\n",
    "#     test_img.append(img)\n",
    "# test_img = np.array(test_img)\n",
    "# X, dim_x, dim_y = test_img.shape\n",
    "# test_img = test_img.reshape((X, dim_x*dim_y))\n",
    "# print(len(test_load))"
   ]
  },
  {
   "cell_type": "code",
   "execution_count": null,
   "metadata": {},
   "outputs": [],
   "source": [
    "# # model.eval()\n",
    "# # # dataiter = iter(test_loader)\n",
    "# # # images = dataiter.next()\n",
    "# pred = []\n",
    "# for data in test_loader:\n",
    "   \n",
    "#     tensor_image = data.clone().detach().unsqueeze(0).float()\n",
    "\n",
    "#     output = model(data)\n",
    "#     _,predicted_label = torch.max(output, 1)\n",
    "#     predicted_label = predicted_label.detach().cpu().numpy()\n",
    "#     pred.append(predicted_label)\n",
    "# list_labels=[]\n",
    "# for pr in pred:\n",
    "#     list_labels.append(np.argmax(pred))\n"
   ]
  },
  {
   "cell_type": "code",
   "execution_count": 26,
   "metadata": {},
   "outputs": [],
   "source": [
    "# from sklearn.preprocessing import MinMaxScaler\n",
    "# minmax = MinMaxScaler()"
   ]
  },
  {
   "cell_type": "code",
   "execution_count": null,
   "metadata": {},
   "outputs": [],
   "source": [
    "# pred = []\n",
    "# for x in test_loader:\n",
    "# #   print(x)\n",
    "# #     img = cv2.imread('test/00bc22f9-725.png') # + x,0)\n",
    "# #     print(img.shape)\n",
    "# #     img = cv2.resize(img,(224,224))\n",
    "#     tensor_image = torch.tensor(x).unsqueeze(0).float()\n",
    "#     tensor_imag=x.clone().detach().requires_grad_(True)\n",
    "#     normalized_tensor_image = minmax(tensor_image, [0.5], [0.5]).unsqueeze(0)\n",
    "#     print(normalized_tensor_image)\n",
    "#     output = model(tensor_image)\n",
    "#     label = output.argmax()\n",
    "#     label = label.detach().cpu().numpy()\n",
    "#     pred.append(label)\n",
    "\n",
    "    "
   ]
  },
  {
   "cell_type": "code",
   "execution_count": null,
   "metadata": {},
   "outputs": [],
   "source": [
    "# f = open(\"buna_attempt.txt\", \"w\")\n",
    "# f.write(\"id,label\\n\")\n",
    "# # for i, index in enumerate(test_load):   \n",
    "# #     r = i + \",\" + pred[index][0]+\"\\n\"\n",
    "# #     f.write(r)\n",
    "# i=0 \n",
    "# j=0\n",
    "# for img in test_load:\n",
    "#     r=img+\",\"+str(pred[i][j] for j in range(0,3))\n",
    "# #     if(j==3):\n",
    "# #         j=0\n",
    "# #     else:\n",
    "# #         j=j+1\n",
    "#     i=i+1\n",
    "#     f.write(r)\n",
    "# f.close()"
   ]
  },
  {
   "cell_type": "code",
   "execution_count": null,
   "metadata": {},
   "outputs": [],
   "source": [
    "# submission=pd.read_csv(\"sample_submission.txt\",header=None, names=[\"id\",\"label\"])\n",
    "# submission.head()"
   ]
  },
  {
   "cell_type": "code",
   "execution_count": null,
   "metadata": {},
   "outputs": [],
   "source": [
    "# import cv2\n"
   ]
  },
  {
   "cell_type": "code",
   "execution_count": null,
   "metadata": {},
   "outputs": [],
   "source": [
    "# pred = []\n",
    "# for x in submission['id'].values:\n",
    "#   # print(x)\n",
    "#     img = cv2.imread('test/00bc22f9-725.png') # + x,0)\n",
    "# #     print(img.shape)\n",
    "# #     img = cv2.resize(img,(224,224))\n",
    "#     tensor_image = torch.tensor(x).unsqueeze(0).float()\n",
    "# #     normalized_tensor_image = normalize(tensor_image, [0.5], [0.5]).unsqueeze(0)\n",
    "#   # print(normalized_tensor_image)\n",
    "#     output = model(tensor_image)\n",
    "#     label = output.argmax()\n",
    "#     label = label.detach().cpu().numpy()\n",
    "#     pred.append(label)\n",
    "\n",
    "    "
   ]
  },
  {
   "cell_type": "code",
   "execution_count": null,
   "metadata": {},
   "outputs": [],
   "source": []
  },
  {
   "cell_type": "code",
   "execution_count": null,
   "metadata": {},
   "outputs": [],
   "source": [
    "# img = cv2.imread('test/00bc22f9-725.png') # + x,0)\n",
    "# print(img.shape)"
   ]
  },
  {
   "cell_type": "code",
   "execution_count": null,
   "metadata": {},
   "outputs": [],
   "source": []
  },
  {
   "cell_type": "code",
   "execution_count": null,
   "metadata": {},
   "outputs": [],
   "source": []
  },
  {
   "cell_type": "code",
   "execution_count": null,
   "metadata": {},
   "outputs": [],
   "source": []
  }
 ],
 "metadata": {
  "kernelspec": {
   "display_name": "envname",
   "language": "python",
   "name": "envname"
  },
  "language_info": {
   "codemirror_mode": {
    "name": "ipython",
    "version": 3
   },
   "file_extension": ".py",
   "mimetype": "text/x-python",
   "name": "python",
   "nbconvert_exporter": "python",
   "pygments_lexer": "ipython3",
   "version": "3.8.8"
  }
 },
 "nbformat": 4,
 "nbformat_minor": 4
}
